{
 "cells": [
  {
   "cell_type": "markdown",
   "id": "ee016344-108a-4440-b0b9-92b59d0b67a9",
   "metadata": {},
   "source": [
    "## Entity linking on example data"
   ]
  },
  {
   "cell_type": "code",
   "execution_count": 1,
   "id": "bb1a3d6a-bce9-489d-b624-b79e4f4196c0",
   "metadata": {
    "execution": {
     "iopub.execute_input": "2024-09-08T20:08:53.621535Z",
     "iopub.status.busy": "2024-09-08T20:08:53.620398Z",
     "iopub.status.idle": "2024-09-08T20:08:55.702848Z",
     "shell.execute_reply": "2024-09-08T20:08:55.702536Z",
     "shell.execute_reply.started": "2024-09-08T20:08:53.621486Z"
    }
   },
   "outputs": [
    {
     "name": "stderr",
     "output_type": "stream",
     "text": [
      "/Users/louis.guitton/.pyenv/versions/3.11.4/lib/python3.11/site-packages/tqdm/auto.py:21: TqdmWarning: IProgress not found. Please update jupyter and ipywidgets. See https://ipywidgets.readthedocs.io/en/stable/user_install.html\n",
      "  from .autonotebook import tqdm as notebook_tqdm\n"
     ]
    }
   ],
   "source": [
    "from spacy import displacy\n",
    "\n",
    "from src.ann_linker.dag import entities, aliases, nlp, nlp_with_linker, kb\n",
    "from src.ann_linker.linker import AnnLinker"
   ]
  },
  {
   "cell_type": "code",
   "execution_count": 2,
   "id": "ea1fa705-cc76-4b4d-8304-6d7906d0e258",
   "metadata": {
    "execution": {
     "iopub.execute_input": "2024-09-08T20:08:55.703776Z",
     "iopub.status.busy": "2024-09-08T20:08:55.703623Z",
     "iopub.status.idle": "2024-09-08T20:08:59.673304Z",
     "shell.execute_reply": "2024-09-08T20:08:59.672888Z",
     "shell.execute_reply.started": "2024-09-08T20:08:55.703768Z"
    }
   },
   "outputs": [
    {
     "name": "stderr",
     "output_type": "stream",
     "text": [
      "/Users/louis.guitton/.pyenv/versions/3.11.4/lib/python3.11/site-packages/transformers/tokenization_utils_base.py:1601: FutureWarning: `clean_up_tokenization_spaces` was not set. It will be set to `True` by default. This behavior will be depracted in transformers v4.45, and will be then set to `False` by default. For more details check this issue: https://github.com/huggingface/transformers/issues/31884\n",
      "  warnings.warn(\n"
     ]
    }
   ],
   "source": [
    "kb = kb(entities(), aliases())"
   ]
  },
  {
   "cell_type": "code",
   "execution_count": 3,
   "id": "6c981d4a-5f59-48d8-a6e3-d66e29d9e6ee",
   "metadata": {
    "execution": {
     "iopub.execute_input": "2024-09-08T20:08:59.674388Z",
     "iopub.status.busy": "2024-09-08T20:08:59.674018Z",
     "iopub.status.idle": "2024-09-08T20:09:00.753332Z",
     "shell.execute_reply": "2024-09-08T20:09:00.752926Z",
     "shell.execute_reply.started": "2024-09-08T20:08:59.674376Z"
    }
   },
   "outputs": [],
   "source": [
    "nlp = nlp_with_linker(nlp(), kb)"
   ]
  },
  {
   "cell_type": "code",
   "execution_count": 4,
   "id": "8543b432-15fe-4a94-8e48-a83c7ecca959",
   "metadata": {
    "execution": {
     "iopub.execute_input": "2024-09-08T20:09:00.754110Z",
     "iopub.status.busy": "2024-09-08T20:09:00.753886Z",
     "iopub.status.idle": "2024-09-08T20:09:00.770779Z",
     "shell.execute_reply": "2024-09-08T20:09:00.770427Z",
     "shell.execute_reply.started": "2024-09-08T20:09:00.754101Z"
    }
   },
   "outputs": [],
   "source": [
    "ruler = nlp.add_pipe('entity_ruler', before=\"ner\")\n",
    "patterns = [\n",
    "    {\"label\": \"SKILL\", \"pattern\": alias}\n",
    "    for alias in [a.alias for a in aliases()] + ['machine learn']\n",
    "]\n",
    "ruler.add_patterns(patterns)"
   ]
  },
  {
   "cell_type": "code",
   "execution_count": 5,
   "id": "959d1d3d-40bb-4e24-95d0-578f5266c713",
   "metadata": {
    "execution": {
     "iopub.execute_input": "2024-09-08T20:09:00.776073Z",
     "iopub.status.busy": "2024-09-08T20:09:00.775802Z",
     "iopub.status.idle": "2024-09-08T20:09:00.822241Z",
     "shell.execute_reply": "2024-09-08T20:09:00.821879Z",
     "shell.execute_reply.started": "2024-09-08T20:09:00.776050Z"
    }
   },
   "outputs": [],
   "source": [
    "doc = nlp(\"NLP is a subset of machine learn.\")"
   ]
  },
  {
   "cell_type": "code",
   "execution_count": 6,
   "id": "59bdc714-826f-43f9-b8cf-74a40408a860",
   "metadata": {
    "execution": {
     "iopub.execute_input": "2024-09-08T20:09:00.822927Z",
     "iopub.status.busy": "2024-09-08T20:09:00.822826Z",
     "iopub.status.idle": "2024-09-08T20:09:00.827855Z",
     "shell.execute_reply": "2024-09-08T20:09:00.827276Z",
     "shell.execute_reply.started": "2024-09-08T20:09:00.822916Z"
    }
   },
   "outputs": [
    {
     "data": {
      "text/plain": [
       "(NLP, machine learn)"
      ]
     },
     "execution_count": 6,
     "metadata": {},
     "output_type": "execute_result"
    }
   ],
   "source": [
    "doc.ents"
   ]
  },
  {
   "cell_type": "code",
   "execution_count": 7,
   "id": "2505dbf5-3803-40ab-86b8-d2f02316325f",
   "metadata": {
    "execution": {
     "iopub.execute_input": "2024-09-08T20:09:00.828863Z",
     "iopub.status.busy": "2024-09-08T20:09:00.828709Z",
     "iopub.status.idle": "2024-09-08T20:09:00.832631Z",
     "shell.execute_reply": "2024-09-08T20:09:00.832096Z",
     "shell.execute_reply.started": "2024-09-08T20:09:00.828851Z"
    }
   },
   "outputs": [
    {
     "data": {
      "text/html": [
       "<span class=\"tex2jax_ignore\"><div class=\"entities\" style=\"line-height: 2.5; direction: ltr\">\n",
       "<mark class=\"entity\" style=\"background: #ddd; padding: 0.45em 0.6em; margin: 0 0.25em; line-height: 1; border-radius: 0.35em;\">\n",
       "    NLP\n",
       "    <span style=\"font-size: 0.8em; font-weight: bold; line-height: 1; border-radius: 0.35em; vertical-align: middle; margin-left: 0.5rem\">SKILL\n",
       " <a style=\"text-decoration: none; color: inherit; font-weight: normal\" href=\"#\">a3</a>\n",
       "</span>\n",
       "</mark>\n",
       " is a subset of \n",
       "<mark class=\"entity\" style=\"background: #ddd; padding: 0.45em 0.6em; margin: 0 0.25em; line-height: 1; border-radius: 0.35em;\">\n",
       "    machine learn\n",
       "    <span style=\"font-size: 0.8em; font-weight: bold; line-height: 1; border-radius: 0.35em; vertical-align: middle; margin-left: 0.5rem\">SKILL</span>\n",
       "</mark>\n",
       ".</div></span>"
      ],
      "text/plain": [
       "<IPython.core.display.HTML object>"
      ]
     },
     "metadata": {},
     "output_type": "display_data"
    }
   ],
   "source": [
    "displacy.render(doc, style=\"ent\")"
   ]
  },
  {
   "cell_type": "code",
   "execution_count": 8,
   "id": "751e8820-d230-47f8-b10c-43cf8387fb7a",
   "metadata": {
    "execution": {
     "iopub.execute_input": "2024-09-08T20:09:05.012592Z",
     "iopub.status.busy": "2024-09-08T20:09:05.012407Z",
     "iopub.status.idle": "2024-09-08T20:09:05.014900Z",
     "shell.execute_reply": "2024-09-08T20:09:05.014439Z",
     "shell.execute_reply.started": "2024-09-08T20:09:05.012580Z"
    }
   },
   "outputs": [
    {
     "name": "stdout",
     "output_type": "stream",
     "text": [
      "a3\n",
      "\n"
     ]
    }
   ],
   "source": [
    "for ent in doc.ents:\n",
    "    print(ent.kb_id_)"
   ]
  },
  {
   "cell_type": "code",
   "execution_count": 9,
   "id": "426e6aad-304e-44ee-a4a1-af5e93aadd60",
   "metadata": {
    "execution": {
     "iopub.execute_input": "2024-09-08T20:09:05.939600Z",
     "iopub.status.busy": "2024-09-08T20:09:05.939160Z",
     "iopub.status.idle": "2024-09-08T20:09:05.945017Z",
     "shell.execute_reply": "2024-09-08T20:09:05.944307Z",
     "shell.execute_reply.started": "2024-09-08T20:09:05.939577Z"
    }
   },
   "outputs": [
    {
     "data": {
      "text/plain": [
       "[(Entity(entity_id='a1', name='Machine learning (ML)', description='Machine learning (ML) is the scientific study of algorithms and statistical models...', label=None),\n",
       "  0.5660956501960754)]"
      ]
     },
     "execution_count": 9,
     "metadata": {},
     "output_type": "execute_result"
    }
   ],
   "source": [
    "doc.ents[1]._.kb_candidates"
   ]
  },
  {
   "cell_type": "code",
   "execution_count": null,
   "id": "282f066d-3a58-4cf4-a8f0-8f1a83cd6a75",
   "metadata": {},
   "outputs": [],
   "source": []
  }
 ],
 "metadata": {
  "kernelspec": {
   "display_name": "Python 3 (ipykernel)",
   "language": "python",
   "name": "python3"
  },
  "language_info": {
   "codemirror_mode": {
    "name": "ipython",
    "version": 3
   },
   "file_extension": ".py",
   "mimetype": "text/x-python",
   "name": "python",
   "nbconvert_exporter": "python",
   "pygments_lexer": "ipython3",
   "version": "3.11.4"
  }
 },
 "nbformat": 4,
 "nbformat_minor": 5
}
